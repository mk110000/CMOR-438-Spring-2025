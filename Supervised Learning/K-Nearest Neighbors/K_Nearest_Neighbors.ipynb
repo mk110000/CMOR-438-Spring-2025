{
  "nbformat": 4,
  "nbformat_minor": 0,
  "metadata": {
    "colab": {
      "provenance": []
    },
    "kernelspec": {
      "name": "python3",
      "display_name": "Python 3"
    },
    "language_info": {
      "name": "python"
    }
  },
  "cells": [
    {
      "cell_type": "markdown",
      "source": [
        "# What is K-Nearest Neighbors?"
      ],
      "metadata": {
        "id": "4q10CNhvR5F_"
      }
    },
    {
      "cell_type": "markdown",
      "source": [
        "## Introduction"
      ],
      "metadata": {
        "id": "WBb9yADIR_9m"
      }
    },
    {
      "cell_type": "markdown",
      "source": [
        "### K-Nearest Neighbors (KNN) is a simple and widely used supervised machine learning algorithm for both classification and regression tasks. It functions on the idea that data points with similar characteristics tend to be near each other in the feature space. Basically, KNN predicts the label or value of a new data point by examining the labels or values of its \"k\" closest neighbors from the training dataset. This approach makes KNN intuitive and straightforward to use, making it a popular choice for various applications."
      ],
      "metadata": {
        "id": "u_7AXIy0SBMN"
      }
    },
    {
      "cell_type": "markdown",
      "source": [
        "## How does K-Nearest Neighbors work?"
      ],
      "metadata": {
        "id": "jlhjN4jKSCbe"
      }
    },
    {
      "cell_type": "markdown",
      "source": [
        "### KNN can be broken down into the following steps:\n",
        "\n",
        "1.   Selecting the Value of \"K\": choose the number of neighbors (K) to consider when making a prediction. The optimal \"K\" balances bias and variance in the model\n",
        "2.   Calculating Distances: for a new data point, compute the distance between it and all points in the training dataset. Common distance metrics included Euclidean, Manhattan, and Minkowski distances\n",
        "3.   Identifying Nearest Neighbors: sort the distance and select the \"K\" data points with the smallest distances to the new point\n",
        "4.   Making Predictions:\n",
        "  *   Classification: Assign the class that is most frequent among the \"K\" neighbors\n",
        "  *   Regression: Caculate the average (or weighted average) of the values of the \"K\" neighbors to predict the value for the new point\n",
        "\n",
        "\n",
        "\n"
      ],
      "metadata": {
        "id": "UdxBioVjSFeK"
      }
    },
    {
      "cell_type": "markdown",
      "source": [
        "## Choosing the optimal \"K\" value"
      ],
      "metadata": {
        "id": "rp9-Z93PSGZk"
      }
    },
    {
      "cell_type": "markdown",
      "source": [
        "### Selecting an appropriate \"K\" is crucial when using KNN:\n",
        "\n",
        "*   Small \"K\": the model becomes sensitive to noise, leading to high variance and potential overfitting\n",
        "*   Large \"K\": the model may oversimplify, leading to more bias and potential underfitting\n",
        "\n",
        "### A common trend is to use cross-validation to test different \"K\" values and choose the one that provides the best performance.\n",
        "\n"
      ],
      "metadata": {
        "id": "sKZ3FxvnSMuf"
      }
    },
    {
      "cell_type": "markdown",
      "source": [
        "## Distance metrics in KNN"
      ],
      "metadata": {
        "id": "WRv1qBWvSNsM"
      }
    },
    {
      "cell_type": "markdown",
      "source": [
        "### The chosie of distance metrics affects how similarity between data points is measured:\n",
        "*   Euclidean Distance: measures the straight-line distance between two points in space, it's the most commonly used metric\n",
        "*   Manhattan Distance: measures the distance between two points along axes at right angles, it's useful when movement is restricted to grid-like paths\n",
        "*   Minkowski Distance: encompasses both Euclidean and Manhattan distances, allowing flexibility based on the chosen parameter\n",
        "\n",
        "### Selecting the appropriate distnace metric depends on the nature of the data and the problem.\n"
      ],
      "metadata": {
        "id": "cWqNLWr9SS14"
      }
    },
    {
      "cell_type": "markdown",
      "source": [
        "## Advantages and Limitations of KNN"
      ],
      "metadata": {
        "id": "vDr38KkJSUMY"
      }
    },
    {
      "cell_type": "markdown",
      "source": [
        "### Advantages\n",
        "*   Simplicity: easy to understand and implement\n",
        "*   Versatility: can be used for both classification and regression tasks\n",
        "*   No Training Phase: doesn't require a training phase, making it computationally efficient\n",
        "\n",
        "### Disadvantages\n",
        "*   Computational Cost: as the dataset grows, calculating distances for each prediction becomes computationally expensive\n",
        "*   Curse of Dimensionality: performance can worsen with high-dimensional data, as distances become less meaningful\n",
        "*   Imbalanced Data: if certain classes are more prevalent, the algorithm may be biased toward those classes\n"
      ],
      "metadata": {
        "id": "XqtES0Q2SYjx"
      }
    },
    {
      "cell_type": "markdown",
      "source": [
        "# K-Nearest Neighbors in Action"
      ],
      "metadata": {
        "id": "f2mahQqPSbjM"
      }
    },
    {
      "cell_type": "code",
      "source": [
        "from google.colab import files\n",
        "import pandas as pd\n",
        "import matplotlib.pyplot as plt\n",
        "import seaborn as sns\n",
        "\n",
        "!pip install -U imbalanced-learn\n",
        "from imblearn.over_sampling import SMOTE\n",
        "\n",
        "from sklearn.model_selection import train_test_split\n",
        "from sklearn.neighbors import KNeighborsClassifier\n",
        "from sklearn.metrics import accuracy_score, classification_report, confusion_matrix\n",
        "from sklearn.preprocessing import StandardScaler\n",
        "\n",
        "uploaded = files.upload()\n",
        "\n",
        "filename = list(uploaded.keys())[0]\n",
        "\n",
        "df = pd.read_csv(filename)\n",
        "df = df.drop(columns = ['year', 'clinical_notes'])\n",
        "\n",
        "df = pd.get_dummies(df, drop_first = True)\n",
        "\n",
        "X = df.drop(columns = ['diabetes'])\n",
        "y = df['diabetes']\n",
        "\n",
        "X_train, X_test, y_train, y_test = train_test_split(X, y, test_size = 0.2, random_state = 42)\n",
        "\n",
        "smote = SMOTE(random_state = 14)\n",
        "X_train_balanced, y_train_balanced = smote.fit_resample(X_train, y_train)\n",
        "\n",
        "scaler = StandardScaler()\n",
        "X_train_balanced_scaled = scaler.fit_transform(X_train_balanced)\n",
        "X_test_scaled = scaler.transform(X_test)\n",
        "\n",
        "knn = KNeighborsClassifier(n_neighbors = 5)\n",
        "knn.fit(X_train_balanced_scaled, y_train_balanced)\n",
        "\n",
        "y_pred = knn.predict(X_test_scaled)\n",
        "\n",
        "print(\"Accuracy:\", accuracy_score(y_test, y_pred))\n",
        "print(\"Classification Report:\\n\", classification_report(y_test, y_pred))"
      ],
      "metadata": {
        "colab": {
          "base_uri": "https://localhost:8080/",
          "height": 395
        },
        "id": "NF0iNlYlSha9",
        "outputId": "b8d85ad2-694d-4308-82ee-d81bd40bd392"
      },
      "execution_count": 1,
      "outputs": [
        {
          "output_type": "stream",
          "name": "stdout",
          "text": [
            "Requirement already satisfied: imbalanced-learn in /usr/local/lib/python3.11/dist-packages (0.13.0)\n",
            "Requirement already satisfied: numpy<3,>=1.24.3 in /usr/local/lib/python3.11/dist-packages (from imbalanced-learn) (2.0.2)\n",
            "Requirement already satisfied: scipy<2,>=1.10.1 in /usr/local/lib/python3.11/dist-packages (from imbalanced-learn) (1.15.2)\n",
            "Requirement already satisfied: scikit-learn<2,>=1.3.2 in /usr/local/lib/python3.11/dist-packages (from imbalanced-learn) (1.6.1)\n",
            "Requirement already satisfied: sklearn-compat<1,>=0.1 in /usr/local/lib/python3.11/dist-packages (from imbalanced-learn) (0.1.3)\n",
            "Requirement already satisfied: joblib<2,>=1.1.1 in /usr/local/lib/python3.11/dist-packages (from imbalanced-learn) (1.4.2)\n",
            "Requirement already satisfied: threadpoolctl<4,>=2.0.0 in /usr/local/lib/python3.11/dist-packages (from imbalanced-learn) (3.6.0)\n"
          ]
        },
        {
          "output_type": "display_data",
          "data": {
            "text/plain": [
              "<IPython.core.display.HTML object>"
            ],
            "text/html": [
              "\n",
              "     <input type=\"file\" id=\"files-2b6716c7-6c90-4d31-bf24-75f208c54b3c\" name=\"files[]\" multiple disabled\n",
              "        style=\"border:none\" />\n",
              "     <output id=\"result-2b6716c7-6c90-4d31-bf24-75f208c54b3c\">\n",
              "      Upload widget is only available when the cell has been executed in the\n",
              "      current browser session. Please rerun this cell to enable.\n",
              "      </output>\n",
              "      <script>// Copyright 2017 Google LLC\n",
              "//\n",
              "// Licensed under the Apache License, Version 2.0 (the \"License\");\n",
              "// you may not use this file except in compliance with the License.\n",
              "// You may obtain a copy of the License at\n",
              "//\n",
              "//      http://www.apache.org/licenses/LICENSE-2.0\n",
              "//\n",
              "// Unless required by applicable law or agreed to in writing, software\n",
              "// distributed under the License is distributed on an \"AS IS\" BASIS,\n",
              "// WITHOUT WARRANTIES OR CONDITIONS OF ANY KIND, either express or implied.\n",
              "// See the License for the specific language governing permissions and\n",
              "// limitations under the License.\n",
              "\n",
              "/**\n",
              " * @fileoverview Helpers for google.colab Python module.\n",
              " */\n",
              "(function(scope) {\n",
              "function span(text, styleAttributes = {}) {\n",
              "  const element = document.createElement('span');\n",
              "  element.textContent = text;\n",
              "  for (const key of Object.keys(styleAttributes)) {\n",
              "    element.style[key] = styleAttributes[key];\n",
              "  }\n",
              "  return element;\n",
              "}\n",
              "\n",
              "// Max number of bytes which will be uploaded at a time.\n",
              "const MAX_PAYLOAD_SIZE = 100 * 1024;\n",
              "\n",
              "function _uploadFiles(inputId, outputId) {\n",
              "  const steps = uploadFilesStep(inputId, outputId);\n",
              "  const outputElement = document.getElementById(outputId);\n",
              "  // Cache steps on the outputElement to make it available for the next call\n",
              "  // to uploadFilesContinue from Python.\n",
              "  outputElement.steps = steps;\n",
              "\n",
              "  return _uploadFilesContinue(outputId);\n",
              "}\n",
              "\n",
              "// This is roughly an async generator (not supported in the browser yet),\n",
              "// where there are multiple asynchronous steps and the Python side is going\n",
              "// to poll for completion of each step.\n",
              "// This uses a Promise to block the python side on completion of each step,\n",
              "// then passes the result of the previous step as the input to the next step.\n",
              "function _uploadFilesContinue(outputId) {\n",
              "  const outputElement = document.getElementById(outputId);\n",
              "  const steps = outputElement.steps;\n",
              "\n",
              "  const next = steps.next(outputElement.lastPromiseValue);\n",
              "  return Promise.resolve(next.value.promise).then((value) => {\n",
              "    // Cache the last promise value to make it available to the next\n",
              "    // step of the generator.\n",
              "    outputElement.lastPromiseValue = value;\n",
              "    return next.value.response;\n",
              "  });\n",
              "}\n",
              "\n",
              "/**\n",
              " * Generator function which is called between each async step of the upload\n",
              " * process.\n",
              " * @param {string} inputId Element ID of the input file picker element.\n",
              " * @param {string} outputId Element ID of the output display.\n",
              " * @return {!Iterable<!Object>} Iterable of next steps.\n",
              " */\n",
              "function* uploadFilesStep(inputId, outputId) {\n",
              "  const inputElement = document.getElementById(inputId);\n",
              "  inputElement.disabled = false;\n",
              "\n",
              "  const outputElement = document.getElementById(outputId);\n",
              "  outputElement.innerHTML = '';\n",
              "\n",
              "  const pickedPromise = new Promise((resolve) => {\n",
              "    inputElement.addEventListener('change', (e) => {\n",
              "      resolve(e.target.files);\n",
              "    });\n",
              "  });\n",
              "\n",
              "  const cancel = document.createElement('button');\n",
              "  inputElement.parentElement.appendChild(cancel);\n",
              "  cancel.textContent = 'Cancel upload';\n",
              "  const cancelPromise = new Promise((resolve) => {\n",
              "    cancel.onclick = () => {\n",
              "      resolve(null);\n",
              "    };\n",
              "  });\n",
              "\n",
              "  // Wait for the user to pick the files.\n",
              "  const files = yield {\n",
              "    promise: Promise.race([pickedPromise, cancelPromise]),\n",
              "    response: {\n",
              "      action: 'starting',\n",
              "    }\n",
              "  };\n",
              "\n",
              "  cancel.remove();\n",
              "\n",
              "  // Disable the input element since further picks are not allowed.\n",
              "  inputElement.disabled = true;\n",
              "\n",
              "  if (!files) {\n",
              "    return {\n",
              "      response: {\n",
              "        action: 'complete',\n",
              "      }\n",
              "    };\n",
              "  }\n",
              "\n",
              "  for (const file of files) {\n",
              "    const li = document.createElement('li');\n",
              "    li.append(span(file.name, {fontWeight: 'bold'}));\n",
              "    li.append(span(\n",
              "        `(${file.type || 'n/a'}) - ${file.size} bytes, ` +\n",
              "        `last modified: ${\n",
              "            file.lastModifiedDate ? file.lastModifiedDate.toLocaleDateString() :\n",
              "                                    'n/a'} - `));\n",
              "    const percent = span('0% done');\n",
              "    li.appendChild(percent);\n",
              "\n",
              "    outputElement.appendChild(li);\n",
              "\n",
              "    const fileDataPromise = new Promise((resolve) => {\n",
              "      const reader = new FileReader();\n",
              "      reader.onload = (e) => {\n",
              "        resolve(e.target.result);\n",
              "      };\n",
              "      reader.readAsArrayBuffer(file);\n",
              "    });\n",
              "    // Wait for the data to be ready.\n",
              "    let fileData = yield {\n",
              "      promise: fileDataPromise,\n",
              "      response: {\n",
              "        action: 'continue',\n",
              "      }\n",
              "    };\n",
              "\n",
              "    // Use a chunked sending to avoid message size limits. See b/62115660.\n",
              "    let position = 0;\n",
              "    do {\n",
              "      const length = Math.min(fileData.byteLength - position, MAX_PAYLOAD_SIZE);\n",
              "      const chunk = new Uint8Array(fileData, position, length);\n",
              "      position += length;\n",
              "\n",
              "      const base64 = btoa(String.fromCharCode.apply(null, chunk));\n",
              "      yield {\n",
              "        response: {\n",
              "          action: 'append',\n",
              "          file: file.name,\n",
              "          data: base64,\n",
              "        },\n",
              "      };\n",
              "\n",
              "      let percentDone = fileData.byteLength === 0 ?\n",
              "          100 :\n",
              "          Math.round((position / fileData.byteLength) * 100);\n",
              "      percent.textContent = `${percentDone}% done`;\n",
              "\n",
              "    } while (position < fileData.byteLength);\n",
              "  }\n",
              "\n",
              "  // All done.\n",
              "  yield {\n",
              "    response: {\n",
              "      action: 'complete',\n",
              "    }\n",
              "  };\n",
              "}\n",
              "\n",
              "scope.google = scope.google || {};\n",
              "scope.google.colab = scope.google.colab || {};\n",
              "scope.google.colab._files = {\n",
              "  _uploadFiles,\n",
              "  _uploadFilesContinue,\n",
              "};\n",
              "})(self);\n",
              "</script> "
            ]
          },
          "metadata": {}
        },
        {
          "output_type": "stream",
          "name": "stdout",
          "text": [
            "Saving diabetes_dataset_with_notes.csv to diabetes_dataset_with_notes.csv\n",
            "Accuracy: 0.92185\n",
            "Classification Report:\n",
            "               precision    recall  f1-score   support\n",
            "\n",
            "           0       0.93      0.99      0.96     18297\n",
            "           1       0.64      0.19      0.29      1703\n",
            "\n",
            "    accuracy                           0.92     20000\n",
            "   macro avg       0.78      0.59      0.63     20000\n",
            "weighted avg       0.90      0.92      0.90     20000\n",
            "\n"
          ]
        }
      ]
    },
    {
      "cell_type": "markdown",
      "source": [
        "# Visualizing Results"
      ],
      "metadata": {
        "id": "62Ipj71wORou"
      }
    },
    {
      "cell_type": "code",
      "source": [
        "conf_matrix = confusion_matrix(y_test, y_pred)\n",
        "plt.figure(figsize=(6, 4))\n",
        "sns.heatmap(conf_matrix, annot = True, fmt = 'd', cmap = 'Blues',\n",
        "            xticklabels = ['No Diabetes', 'Diabetes'],\n",
        "            yticklabels = ['No Diabetes', 'Diabetes'])\n",
        "plt.xlabel('Predicted')\n",
        "plt.ylabel('Actual')\n",
        "plt.title('K-Nearest Neighbors Confusion Matrix')\n",
        "plt.show()"
      ],
      "metadata": {
        "colab": {
          "base_uri": "https://localhost:8080/",
          "height": 410
        },
        "id": "lFbMipRcOTTg",
        "outputId": "fe7c2d70-cce8-4450-dd77-b5166e7cfa5b"
      },
      "execution_count": 2,
      "outputs": [
        {
          "output_type": "display_data",
          "data": {
            "text/plain": [
              "<Figure size 600x400 with 2 Axes>"
            ],
            "image/png": "[encoded data removed]"
          },
          "metadata": {}
        }
      ]
    },
    {
      "cell_type": "markdown",
      "source": [
        "### This shows how well the model predicted who has diabetes and who doesn't.\n",
        "\n",
        "*   True Positives - 326 people with diabetes were correctly predicted to have it.\n",
        "*   True Negatives - 18111 people without diabetes were correctly predicted to not have it.\n",
        "*   False Positives - 186 people without diabetes were wrongly predicted to have it.\n",
        "*   False Negatives - 1377 people with diabetes were wrongly predicted to not have it.\n",
        "\n",
        "### The model is really good at identifying people without diabetes (98.98% accuracy), but it's much less accurate at finding those with diabetes (only 19.14% accuracy).\n",
        "\n"
      ],
      "metadata": {
        "id": "3TR5jcToawDr"
      }
    }
  ]
}