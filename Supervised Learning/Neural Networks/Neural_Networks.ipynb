{
  "nbformat": 4,
  "nbformat_minor": 0,
  "metadata": {
    "colab": {
      "provenance": []
    },
    "kernelspec": {
      "name": "python3",
      "display_name": "Python 3"
    },
    "language_info": {
      "name": "python"
    }
  },
  "cells": [
    {
      "cell_type": "markdown",
      "source": [
        "# What are Neural Networks?"
      ],
      "metadata": {
        "id": "-_GX5545Yyte"
      }
    },
    {
      "cell_type": "markdown",
      "source": [
        "## Introduction"
      ],
      "metadata": {
        "id": "-yYLh6JAY4KK"
      }
    },
    {
      "cell_type": "markdown",
      "source": [
        "### Neural networks are a machine learning model inspired by the human brain. They consist of layers of interconnected nodes (or neurons), that process and learn from data. Neural networks are widely used in tasks like image recognition, speech processing, finance, and even game-playing AI. Their ability to detect complex patterns and relationships in data makes them a powerful tool.\n",
        "\n",
        "### Unlike traditioanl algorithms, neural networks do not require explicit rules to make decisions. Instead, they learn from examples, improving over time as they are trained with more data."
      ],
      "metadata": {
        "id": "03cW_9CNY7zw"
      }
    },
    {
      "cell_type": "markdown",
      "source": [
        "## How do Neural Networks Work?"
      ],
      "metadata": {
        "id": "Gi0_yHA1Y86l"
      }
    },
    {
      "cell_type": "markdown",
      "source": [
        "### A neural network processes data through multiple layers:\n",
        "\n",
        "1.   Input Layer: first layer receives raw data, such as images or numerical values\n",
        "2.   Hidden Layers: these layers perform calculations to find patterns in the data. Each neuron in these layers applies a weight, adds a bias, and passes the result through an activation function\n",
        "3.   Output Layer: this layer produces the final prediction or classification based on the processed data\n",
        "\n",
        "### This network learns by adjusting the weights and biases in the hidden layers using a technique called backpropagation, which minimizes errors by continuously refining predictions by comparing actual values and updating parameters.\n",
        "\n"
      ],
      "metadata": {
        "id": "vQi_6lJrZAaz"
      }
    },
    {
      "cell_type": "markdown",
      "source": [
        "## Types of Neural Networks"
      ],
      "metadata": {
        "id": "YTPGJzwmZBFg"
      }
    },
    {
      "cell_type": "markdown",
      "source": [
        "### There are different types of neural networks, each suited for specific tasks:\n",
        "\n",
        "1.   Feedforward Neural Networks (FNN): simplest, where data moves in one direction from input to output\n",
        "2.   Convolutional Neural Networks (CNN): used mainly in image recognition, CNN's can detect patterns liked edges and shapes\n",
        "3.   Recurrent Neural Networks (RNN): designed for sequential data like speech and text, RNN's remember past inputs using loops\n",
        "4.   Deep Neural Networks (DNN): contain multiple hidden layers, allowing them to model complex relationships\n",
        "\n"
      ],
      "metadata": {
        "id": "WzfTXwjoZEgi"
      }
    },
    {
      "cell_type": "markdown",
      "source": [
        "## Key components of a Neural Network"
      ],
      "metadata": {
        "id": "S0nF69MjZFqP"
      }
    },
    {
      "cell_type": "markdown",
      "source": [
        "*   Neurons: building blocks that process and transmit information\n",
        "*   Weights & Biases: adjustable parameters that influence the network's decisions\n",
        "*   Activation Functions: functions like ReLU, Sigmoid, or Tanh that decide how information flows through the network\n",
        "*   Loss Function: measures the error between predicted and actual values, guiding the learning process\n",
        "*   Optimizer: algorithms like Gradient Descent adjust weights to minimize errors\n",
        "\n"
      ],
      "metadata": {
        "id": "kDnbwMzKZJj8"
      }
    },
    {
      "cell_type": "markdown",
      "source": [
        "## Training a Neural Network"
      ],
      "metadata": {
        "id": "sJ9zqhjmZKki"
      }
    },
    {
      "cell_type": "markdown",
      "source": [
        "1.   Forward Propagation: data passes through the network to generate a prediction\n",
        "2.   Loss Calculation: the difference between the prediction and the actual value is measured\n",
        "3.   Backpropagation: the network adjusts weights and biases to reduce errors\n",
        "3.   Iteration: steps 1-3 are repeated multiple times until the network achieves high accuracy\n",
        "\n",
        "### Training requires a large dataset and multiple iterations to fine-tune the model's performance."
      ],
      "metadata": {
        "id": "RpGq6M0TZN8c"
      }
    },
    {
      "cell_type": "markdown",
      "source": [
        "## Advantages and Limitations"
      ],
      "metadata": {
        "id": "Q3jc-q7iZO67"
      }
    },
    {
      "cell_type": "markdown",
      "source": [
        "### Advantages\n",
        "\n",
        "*   Can regonize complex patterns in large datasets\n",
        "*   Learns and improves over time with more data\n",
        "*   Works well for image recognition, speech processing, and text analysis\n",
        "\n",
        "### Limitations\n",
        "\n",
        "*   Requires a lot of data and computational power\n",
        "*   Training can take a long time\n",
        "*   Hard to interpret why a network makes a specific decision\n",
        "\n"
      ],
      "metadata": {
        "id": "AS9Lml-8ZRHR"
      }
    },
    {
      "cell_type": "markdown",
      "source": [
        "# Neural Networks in Action"
      ],
      "metadata": {
        "id": "5ymmeKrbZSVZ"
      }
    },
    {
      "cell_type": "code",
      "source": [
        "from google.colab import files\n",
        "import pandas as pd\n",
        "import matplotlib.pyplot as plt\n",
        "import seaborn as sns\n",
        "\n",
        "!pip install -U imbalanced-learn\n",
        "from imblearn.over_sampling import SMOTE\n",
        "\n",
        "from sklearn.model_selection import train_test_split\n",
        "from sklearn.neural_network import MLPClassifier\n",
        "from sklearn.metrics import accuracy_score, classification_report, confusion_matrix\n",
        "\n",
        "uploaded = files.upload()\n",
        "\n",
        "filename = list(uploaded.keys())[0]\n",
        "\n",
        "df = pd.read_csv(filename)\n",
        "df = df.drop(columns = ['year', 'clinical_notes'])\n",
        "\n",
        "df = pd.get_dummies(df, drop_first = True)\n",
        "\n",
        "X = df.drop(columns = ['diabetes'])\n",
        "y = df['diabetes']\n",
        "\n",
        "X_train, X_test, y_train, y_test = train_test_split(X, y, test_size = 0.2, random_state = 42)\n",
        "\n",
        "smote = SMOTE(random_state = 14)\n",
        "X_train_balanced, y_train_balanced = smote.fit_resample(X_train, y_train)\n",
        "\n",
        "mlp = MLPClassifier(hidden_layer_sizes = (50, 25), max_iter = 1000, random_state = 42)\n",
        "mlp.fit(X_train_balanced, y_train_balanced)\n",
        "\n",
        "y_pred_mlp = mlp.predict(X_test)\n",
        "\n",
        "print(\"Accuracy:\", accuracy_score(y_test, y_pred_mlp))\n",
        "print(\"Classification Report:\\n\", classification_report(y_test, y_pred_mlp))"
      ],
      "metadata": {
        "colab": {
          "base_uri": "https://localhost:8080/",
          "height": 395
        },
        "id": "zxmQ-yJ4ZUJC",
        "outputId": "ed163cc3-0bbd-4123-b873-1ea38b709028"
      },
      "execution_count": 1,
      "outputs": [
        {
          "output_type": "stream",
          "name": "stdout",
          "text": [
            "Requirement already satisfied: imbalanced-learn in /usr/local/lib/python3.11/dist-packages (0.13.0)\n",
            "Requirement already satisfied: numpy<3,>=1.24.3 in /usr/local/lib/python3.11/dist-packages (from imbalanced-learn) (1.26.4)\n",
            "Requirement already satisfied: scipy<2,>=1.10.1 in /usr/local/lib/python3.11/dist-packages (from imbalanced-learn) (1.13.1)\n",
            "Requirement already satisfied: scikit-learn<2,>=1.3.2 in /usr/local/lib/python3.11/dist-packages (from imbalanced-learn) (1.6.1)\n",
            "Requirement already satisfied: sklearn-compat<1,>=0.1 in /usr/local/lib/python3.11/dist-packages (from imbalanced-learn) (0.1.3)\n",
            "Requirement already satisfied: joblib<2,>=1.1.1 in /usr/local/lib/python3.11/dist-packages (from imbalanced-learn) (1.4.2)\n",
            "Requirement already satisfied: threadpoolctl<4,>=2.0.0 in /usr/local/lib/python3.11/dist-packages (from imbalanced-learn) (3.5.0)\n"
          ]
        },
        {
          "output_type": "display_data",
          "data": {
            "text/plain": [
              "<IPython.core.display.HTML object>"
            ],
            "text/html": [
              "\n",
              "     <input type=\"file\" id=\"files-17961100-0bf7-40c9-bb36-73c256d5c14b\" name=\"files[]\" multiple disabled\n",
              "        style=\"border:none\" />\n",
              "     <output id=\"result-17961100-0bf7-40c9-bb36-73c256d5c14b\">\n",
              "      Upload widget is only available when the cell has been executed in the\n",
              "      current browser session. Please rerun this cell to enable.\n",
              "      </output>\n",
              "      <script>// Copyright 2017 Google LLC\n",
              "//\n",
              "// Licensed under the Apache License, Version 2.0 (the \"License\");\n",
              "// you may not use this file except in compliance with the License.\n",
              "// You may obtain a copy of the License at\n",
              "//\n",
              "//      http://www.apache.org/licenses/LICENSE-2.0\n",
              "//\n",
              "// Unless required by applicable law or agreed to in writing, software\n",
              "// distributed under the License is distributed on an \"AS IS\" BASIS,\n",
              "// WITHOUT WARRANTIES OR CONDITIONS OF ANY KIND, either express or implied.\n",
              "// See the License for the specific language governing permissions and\n",
              "// limitations under the License.\n",
              "\n",
              "/**\n",
              " * @fileoverview Helpers for google.colab Python module.\n",
              " */\n",
              "(function(scope) {\n",
              "function span(text, styleAttributes = {}) {\n",
              "  const element = document.createElement('span');\n",
              "  element.textContent = text;\n",
              "  for (const key of Object.keys(styleAttributes)) {\n",
              "    element.style[key] = styleAttributes[key];\n",
              "  }\n",
              "  return element;\n",
              "}\n",
              "\n",
              "// Max number of bytes which will be uploaded at a time.\n",
              "const MAX_PAYLOAD_SIZE = 100 * 1024;\n",
              "\n",
              "function _uploadFiles(inputId, outputId) {\n",
              "  const steps = uploadFilesStep(inputId, outputId);\n",
              "  const outputElement = document.getElementById(outputId);\n",
              "  // Cache steps on the outputElement to make it available for the next call\n",
              "  // to uploadFilesContinue from Python.\n",
              "  outputElement.steps = steps;\n",
              "\n",
              "  return _uploadFilesContinue(outputId);\n",
              "}\n",
              "\n",
              "// This is roughly an async generator (not supported in the browser yet),\n",
              "// where there are multiple asynchronous steps and the Python side is going\n",
              "// to poll for completion of each step.\n",
              "// This uses a Promise to block the python side on completion of each step,\n",
              "// then passes the result of the previous step as the input to the next step.\n",
              "function _uploadFilesContinue(outputId) {\n",
              "  const outputElement = document.getElementById(outputId);\n",
              "  const steps = outputElement.steps;\n",
              "\n",
              "  const next = steps.next(outputElement.lastPromiseValue);\n",
              "  return Promise.resolve(next.value.promise).then((value) => {\n",
              "    // Cache the last promise value to make it available to the next\n",
              "    // step of the generator.\n",
              "    outputElement.lastPromiseValue = value;\n",
              "    return next.value.response;\n",
              "  });\n",
              "}\n",
              "\n",
              "/**\n",
              " * Generator function which is called between each async step of the upload\n",
              " * process.\n",
              " * @param {string} inputId Element ID of the input file picker element.\n",
              " * @param {string} outputId Element ID of the output display.\n",
              " * @return {!Iterable<!Object>} Iterable of next steps.\n",
              " */\n",
              "function* uploadFilesStep(inputId, outputId) {\n",
              "  const inputElement = document.getElementById(inputId);\n",
              "  inputElement.disabled = false;\n",
              "\n",
              "  const outputElement = document.getElementById(outputId);\n",
              "  outputElement.innerHTML = '';\n",
              "\n",
              "  const pickedPromise = new Promise((resolve) => {\n",
              "    inputElement.addEventListener('change', (e) => {\n",
              "      resolve(e.target.files);\n",
              "    });\n",
              "  });\n",
              "\n",
              "  const cancel = document.createElement('button');\n",
              "  inputElement.parentElement.appendChild(cancel);\n",
              "  cancel.textContent = 'Cancel upload';\n",
              "  const cancelPromise = new Promise((resolve) => {\n",
              "    cancel.onclick = () => {\n",
              "      resolve(null);\n",
              "    };\n",
              "  });\n",
              "\n",
              "  // Wait for the user to pick the files.\n",
              "  const files = yield {\n",
              "    promise: Promise.race([pickedPromise, cancelPromise]),\n",
              "    response: {\n",
              "      action: 'starting',\n",
              "    }\n",
              "  };\n",
              "\n",
              "  cancel.remove();\n",
              "\n",
              "  // Disable the input element since further picks are not allowed.\n",
              "  inputElement.disabled = true;\n",
              "\n",
              "  if (!files) {\n",
              "    return {\n",
              "      response: {\n",
              "        action: 'complete',\n",
              "      }\n",
              "    };\n",
              "  }\n",
              "\n",
              "  for (const file of files) {\n",
              "    const li = document.createElement('li');\n",
              "    li.append(span(file.name, {fontWeight: 'bold'}));\n",
              "    li.append(span(\n",
              "        `(${file.type || 'n/a'}) - ${file.size} bytes, ` +\n",
              "        `last modified: ${\n",
              "            file.lastModifiedDate ? file.lastModifiedDate.toLocaleDateString() :\n",
              "                                    'n/a'} - `));\n",
              "    const percent = span('0% done');\n",
              "    li.appendChild(percent);\n",
              "\n",
              "    outputElement.appendChild(li);\n",
              "\n",
              "    const fileDataPromise = new Promise((resolve) => {\n",
              "      const reader = new FileReader();\n",
              "      reader.onload = (e) => {\n",
              "        resolve(e.target.result);\n",
              "      };\n",
              "      reader.readAsArrayBuffer(file);\n",
              "    });\n",
              "    // Wait for the data to be ready.\n",
              "    let fileData = yield {\n",
              "      promise: fileDataPromise,\n",
              "      response: {\n",
              "        action: 'continue',\n",
              "      }\n",
              "    };\n",
              "\n",
              "    // Use a chunked sending to avoid message size limits. See b/62115660.\n",
              "    let position = 0;\n",
              "    do {\n",
              "      const length = Math.min(fileData.byteLength - position, MAX_PAYLOAD_SIZE);\n",
              "      const chunk = new Uint8Array(fileData, position, length);\n",
              "      position += length;\n",
              "\n",
              "      const base64 = btoa(String.fromCharCode.apply(null, chunk));\n",
              "      yield {\n",
              "        response: {\n",
              "          action: 'append',\n",
              "          file: file.name,\n",
              "          data: base64,\n",
              "        },\n",
              "      };\n",
              "\n",
              "      let percentDone = fileData.byteLength === 0 ?\n",
              "          100 :\n",
              "          Math.round((position / fileData.byteLength) * 100);\n",
              "      percent.textContent = `${percentDone}% done`;\n",
              "\n",
              "    } while (position < fileData.byteLength);\n",
              "  }\n",
              "\n",
              "  // All done.\n",
              "  yield {\n",
              "    response: {\n",
              "      action: 'complete',\n",
              "    }\n",
              "  };\n",
              "}\n",
              "\n",
              "scope.google = scope.google || {};\n",
              "scope.google.colab = scope.google.colab || {};\n",
              "scope.google.colab._files = {\n",
              "  _uploadFiles,\n",
              "  _uploadFilesContinue,\n",
              "};\n",
              "})(self);\n",
              "</script> "
            ]
          },
          "metadata": {}
        },
        {
          "output_type": "stream",
          "name": "stdout",
          "text": [
            "Saving diabetes_dataset_with_notes.csv to diabetes_dataset_with_notes.csv\n",
            "Accuracy: 0.96555\n",
            "Classification Report:\n",
            "               precision    recall  f1-score   support\n",
            "\n",
            "           0       0.96      1.00      0.98     18297\n",
            "           1       0.99      0.60      0.75      1703\n",
            "\n",
            "    accuracy                           0.97     20000\n",
            "   macro avg       0.98      0.80      0.87     20000\n",
            "weighted avg       0.97      0.97      0.96     20000\n",
            "\n"
          ]
        }
      ]
    },
    {
      "cell_type": "markdown",
      "source": [
        "# Visualizing Results"
      ],
      "metadata": {
        "id": "S1i-Dfw1LuiW"
      }
    },
    {
      "cell_type": "code",
      "source": [
        "conf_matrix = confusion_matrix(y_test, y_pred_mlp)\n",
        "plt.figure(figsize = (6, 4))\n",
        "sns.heatmap(conf_matrix, annot = True, fmt = 'd', cmap = 'Blues',\n",
        "            xticklabels = ['No Diabetes', 'Diabetes'],\n",
        "            yticklabels = ['No Diabetes', 'Diabetes'])\n",
        "plt.xlabel('Predicted')\n",
        "plt.ylabel('Actual')\n",
        "plt.title('Neural Network Confusion Matrix')\n",
        "plt.show()"
      ],
      "metadata": {
        "colab": {
          "base_uri": "https://localhost:8080/",
          "height": 410
        },
        "id": "tR5DUZcyLwvE",
        "outputId": "885393e2-af09-4a92-ee93-036d25e31377"
      },
      "execution_count": 2,
      "outputs": [
        {
          "output_type": "display_data",
          "data": {
            "text/plain": [
              "<Figure size 600x400 with 2 Axes>"
            ],
            "image/png": "[encoded data removed]"
          },
          "metadata": {}
        }
      ]
    },
    {
      "cell_type": "markdown",
      "source": [
        "### This shows how well the model predicted who has diabetes and who doesn't.\n",
        "\n",
        "*   True Positives - 1029 people with diabetes were correctly predicted to have it.\n",
        "*   True Negatives - 18282 people without diabetes were correctly predicted to not have it.\n",
        "*   False Positives - 15 people without diabetes were wrongly predicted to have it.\n",
        "*   False Negatives - 674 people with diabetes were wrongly predicted to not have it.\n",
        "\n",
        "### This model is really good at identifying people without diabetes (99.92% accuracy), but it's less accurate at finding people who actually have diabetes (60.42% accuracy).\n"
      ],
      "metadata": {
        "id": "kHX0fbJXYyqt"
      }
    },
    {
      "cell_type": "code",
      "source": [
        "import numpy as np\n",
        "feature_weights = pd.Series(np.abs(mlp.coefs_[0]).sum(axis = 1), index = X.columns)\n",
        "feature_weights.nlargest(10).plot(kind = 'barh')\n",
        "plt.title('Top 10 Feature Weights (Neural Network)')\n",
        "plt.xlabel('Absolute Weight')\n",
        "plt.ylabel('Feature')\n",
        "plt.gca().invert_yaxis()\n",
        "plt.show()"
      ],
      "metadata": {
        "colab": {
          "base_uri": "https://localhost:8080/",
          "height": 472
        },
        "id": "K8zmKAz0L1Cc",
        "outputId": "f4ae0fc1-13f8-401d-872c-a4b1eb78dc91"
      },
      "execution_count": 3,
      "outputs": [
        {
          "output_type": "display_data",
          "data": {
            "text/plain": [
              "<Figure size 640x480 with 1 Axes>"
            ],
            "image/png": "[encoded data removed]"
          },
          "metadata": {}
        }
      ]
    },
    {
      "cell_type": "markdown",
      "source": [
        "*   The top features are mostly race and some locations (like Guam and New Hampshire).\n",
        "*   \"Race: African American\" had the strongest weight, followed closely by other race categories.\n",
        "\n",
        "### This model relies heavily on a person's race and location when deciding if they have diabetes. This might not be ideal - it could mean the model is picking up patterns that don't reflect personal health behavior directly.\n",
        "\n"
      ],
      "metadata": {
        "id": "lWwomI5YYyZS"
      }
    }
  ]
}