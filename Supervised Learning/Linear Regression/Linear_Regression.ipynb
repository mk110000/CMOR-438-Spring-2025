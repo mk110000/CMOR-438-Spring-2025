{
  "nbformat": 4,
  "nbformat_minor": 0,
  "metadata": {
    "colab": {
      "provenance": []
    },
    "kernelspec": {
      "name": "python3",
      "display_name": "Python 3"
    },
    "language_info": {
      "name": "python"
    }
  },
  "cells": [
    {
      "cell_type": "markdown",
      "source": [
        "# What is Linear Regression?"
      ],
      "metadata": {
        "id": "ePclW3aAhAzB"
      }
    },
    {
      "cell_type": "markdown",
      "source": [
        "## Introduction"
      ],
      "metadata": {
        "id": "gCDw-AQPhEDY"
      }
    },
    {
      "cell_type": "markdown",
      "source": [
        "### Linear Regression is one of the simplest and most commonly used machine learning algorithms. It is used to model the relationship between a dependents variable (target) and one or more independent variables (predictors). The goal of linear regression is to find a straight line that best fits the data, which allows for a prediction to be made based on new input values.\n",
        "\n",
        "### This algorithm is widely used in finance, economics, and various fields where understanding trends and making forecasts are important."
      ],
      "metadata": {
        "id": "3NhdhKw9hFnG"
      }
    },
    {
      "cell_type": "markdown",
      "source": [
        "## How does Linear Regression work?"
      ],
      "metadata": {
        "id": "xbDef6OIhGaI"
      }
    },
    {
      "cell_type": "markdown",
      "source": [
        "### Linear Regression works by establishing a linear relationship between the input (X) and output (Y) variables. It does this by fitting a straight line to the data points, which can be represented by the equation:\n",
        "\n",
        "  Y = mX + b\n",
        "\n",
        "  where:\n",
        "*   Y is the predicted output\n",
        "*   X is the input\n",
        "*   m (or sometimes $β_1$) is the slope of the line\n",
        "*   b (or sometimes $β_0$) is the intercept\n",
        "\n",
        "### The algorithm finds the best values for m and b by minimizing the difference between the predicted and actual values.\n",
        "\n",
        "\n"
      ],
      "metadata": {
        "id": "yJCiXUbGhKAl"
      }
    },
    {
      "cell_type": "markdown",
      "source": [
        "## Types of Linear Regression"
      ],
      "metadata": {
        "id": "gaN9pBcihK3R"
      }
    },
    {
      "cell_type": "markdown",
      "source": [
        "### There are two main types of linear regression:\n",
        "\n",
        "*   Simple Linear Regression: involves one independent variable and one dependent variable\n",
        "*   Multiple Linear Regression: uses two or more independent variables to predict the dependent variable"
      ],
      "metadata": {
        "id": "RENm3lMshOFz"
      }
    },
    {
      "cell_type": "markdown",
      "source": [
        "## Mathematical Representation"
      ],
      "metadata": {
        "id": "pv_6R3w3hPpz"
      }
    },
    {
      "cell_type": "markdown",
      "source": [
        "### Linear Regression aims to minimize the error between predicted and actual values. This error is measured using the Mean Squared Error (MSE):\n",
        "\n",
        "  $MSE = \\frac{1}{n} \\sum_({Y_i} - \\hat{Y_i})^2$\n",
        "\n",
        "  where:\n",
        "*   $Y_i$ is the actual value\n",
        "*   $\\hat{Y_i}$ is the predicted value\n",
        "*   n is the total number of data points\n",
        "\n",
        "### To optimize the model, techniques like Ordinary Least Squares (OLS) or Gradient Descent are used to adjust the slope (m) and intercept (b)."
      ],
      "metadata": {
        "id": "HA30Wdd4hRum"
      }
    },
    {
      "cell_type": "markdown",
      "source": [
        "## Evaluating Model Performance"
      ],
      "metadata": {
        "id": "ZlTCaznkhScL"
      }
    },
    {
      "cell_type": "markdown",
      "source": [
        "### To determine how well a linear regression model fits the data, you can use performance metrics such as:\n",
        "\n",
        "*   R-squared ($R^2$): measures how much of a variance in the dependent variable is explained by the independent variable(s), this ranges from -1 to 1, where a value close to 1 indicates a strong, positive fit\n",
        "*   Mean Squared Error (MSE): measures the average squared difference between predicted and actual values, where lower values indicate better performance\n",
        "*   Mean Absolute Error (MAE): measures the average absolute difference between predicted and actual values"
      ],
      "metadata": {
        "id": "GDEtRZmzhlYa"
      }
    },
    {
      "cell_type": "markdown",
      "source": [
        "## Advantages and Limitations"
      ],
      "metadata": {
        "id": "_t7ACIdyhm_R"
      }
    },
    {
      "cell_type": "markdown",
      "source": [
        "### Advantages\n",
        "\n",
        "*   Simple and easy to understand\n",
        "*   Works well with small datasets\n",
        "*   Provides interpretability, as coefficients show the impact of each independent variable\n",
        "\n",
        "### Limitations\n",
        "\n",
        "*   Assumes a linear relationship between variables, which might not always be true\n",
        "*   Sensitive to outliers, which can affect predictions\n",
        "*   Not suitable for complex, non-linear problems\n",
        "\n",
        "\n",
        "\n"
      ],
      "metadata": {
        "id": "cAvNjucLhrQ9"
      }
    },
    {
      "cell_type": "markdown",
      "source": [
        "# Linear Regression in Action"
      ],
      "metadata": {
        "id": "l9YO2UjahsV-"
      }
    },
    {
      "cell_type": "code",
      "source": [
        "from google.colab import files\n",
        "import pandas as pd\n",
        "import matplotlib.pyplot as plt\n",
        "import seaborn as sns\n",
        "\n",
        "!pip install -U imbalanced-learn\n",
        "from imblearn.over_sampling import SMOTE\n",
        "\n",
        "uploaded = files.upload()\n",
        "filename = list(uploaded.keys())[0]\n",
        "\n",
        "df = pd.read_csv(filename)\n",
        "df = df.drop(columns = ['year', 'clinical_notes'])\n",
        "df = pd.get_dummies(df, drop_first = True)\n",
        "\n",
        "X = df.drop(columns = ['diabetes'])\n",
        "y = df['diabetes']\n",
        "\n",
        "from sklearn.model_selection import train_test_split\n",
        "X_train, X_test, y_train, y_test = train_test_split(X, y, test_size = 0.2, random_state = 42)\n",
        "\n",
        "smote = SMOTE(random_state = 14)\n",
        "X_train_balanced, y_train_balanced = smote.fit_resample(X_train, y_train)\n",
        "\n",
        "from sklearn.linear_model import LinearRegression\n",
        "from sklearn.metrics import mean_squared_error, r2_score\n",
        "\n",
        "lr = LinearRegression()\n",
        "lr.fit(X_train_balanced, y_train_balanced)\n",
        "\n",
        "y_pred = lr.predict(X_test)\n",
        "\n",
        "print(\"Mean Squared Error:\", mean_squared_error(y_test, y_pred))\n",
        "print(\"R-squared Score:\", r2_score(y_test, y_pred))"
      ],
      "metadata": {
        "id": "rONTxJ0zhv3P",
        "colab": {
          "base_uri": "https://localhost:8080/",
          "height": 234
        },
        "outputId": "bbd184c5-adf6-4687-9905-f547cfbfd073"
      },
      "execution_count": 1,
      "outputs": [
        {
          "output_type": "stream",
          "name": "stdout",
          "text": [
            "Requirement already satisfied: imbalanced-learn in /usr/local/lib/python3.11/dist-packages (0.13.0)\n",
            "Requirement already satisfied: numpy<3,>=1.24.3 in /usr/local/lib/python3.11/dist-packages (from imbalanced-learn) (2.0.2)\n",
            "Requirement already satisfied: scipy<2,>=1.10.1 in /usr/local/lib/python3.11/dist-packages (from imbalanced-learn) (1.15.2)\n",
            "Requirement already satisfied: scikit-learn<2,>=1.3.2 in /usr/local/lib/python3.11/dist-packages (from imbalanced-learn) (1.6.1)\n",
            "Requirement already satisfied: sklearn-compat<1,>=0.1 in /usr/local/lib/python3.11/dist-packages (from imbalanced-learn) (0.1.3)\n",
            "Requirement already satisfied: joblib<2,>=1.1.1 in /usr/local/lib/python3.11/dist-packages (from imbalanced-learn) (1.4.2)\n",
            "Requirement already satisfied: threadpoolctl<4,>=2.0.0 in /usr/local/lib/python3.11/dist-packages (from imbalanced-learn) (3.6.0)\n"
          ]
        },
        {
          "output_type": "display_data",
          "data": {
            "text/plain": [
              "<IPython.core.display.HTML object>"
            ],
            "text/html": [
              "\n",
              "     <input type=\"file\" id=\"files-ea6779de-76f8-4193-b406-20f82b2993f5\" name=\"files[]\" multiple disabled\n",
              "        style=\"border:none\" />\n",
              "     <output id=\"result-ea6779de-76f8-4193-b406-20f82b2993f5\">\n",
              "      Upload widget is only available when the cell has been executed in the\n",
              "      current browser session. Please rerun this cell to enable.\n",
              "      </output>\n",
              "      <script>// Copyright 2017 Google LLC\n",
              "//\n",
              "// Licensed under the Apache License, Version 2.0 (the \"License\");\n",
              "// you may not use this file except in compliance with the License.\n",
              "// You may obtain a copy of the License at\n",
              "//\n",
              "//      http://www.apache.org/licenses/LICENSE-2.0\n",
              "//\n",
              "// Unless required by applicable law or agreed to in writing, software\n",
              "// distributed under the License is distributed on an \"AS IS\" BASIS,\n",
              "// WITHOUT WARRANTIES OR CONDITIONS OF ANY KIND, either express or implied.\n",
              "// See the License for the specific language governing permissions and\n",
              "// limitations under the License.\n",
              "\n",
              "/**\n",
              " * @fileoverview Helpers for google.colab Python module.\n",
              " */\n",
              "(function(scope) {\n",
              "function span(text, styleAttributes = {}) {\n",
              "  const element = document.createElement('span');\n",
              "  element.textContent = text;\n",
              "  for (const key of Object.keys(styleAttributes)) {\n",
              "    element.style[key] = styleAttributes[key];\n",
              "  }\n",
              "  return element;\n",
              "}\n",
              "\n",
              "// Max number of bytes which will be uploaded at a time.\n",
              "const MAX_PAYLOAD_SIZE = 100 * 1024;\n",
              "\n",
              "function _uploadFiles(inputId, outputId) {\n",
              "  const steps = uploadFilesStep(inputId, outputId);\n",
              "  const outputElement = document.getElementById(outputId);\n",
              "  // Cache steps on the outputElement to make it available for the next call\n",
              "  // to uploadFilesContinue from Python.\n",
              "  outputElement.steps = steps;\n",
              "\n",
              "  return _uploadFilesContinue(outputId);\n",
              "}\n",
              "\n",
              "// This is roughly an async generator (not supported in the browser yet),\n",
              "// where there are multiple asynchronous steps and the Python side is going\n",
              "// to poll for completion of each step.\n",
              "// This uses a Promise to block the python side on completion of each step,\n",
              "// then passes the result of the previous step as the input to the next step.\n",
              "function _uploadFilesContinue(outputId) {\n",
              "  const outputElement = document.getElementById(outputId);\n",
              "  const steps = outputElement.steps;\n",
              "\n",
              "  const next = steps.next(outputElement.lastPromiseValue);\n",
              "  return Promise.resolve(next.value.promise).then((value) => {\n",
              "    // Cache the last promise value to make it available to the next\n",
              "    // step of the generator.\n",
              "    outputElement.lastPromiseValue = value;\n",
              "    return next.value.response;\n",
              "  });\n",
              "}\n",
              "\n",
              "/**\n",
              " * Generator function which is called between each async step of the upload\n",
              " * process.\n",
              " * @param {string} inputId Element ID of the input file picker element.\n",
              " * @param {string} outputId Element ID of the output display.\n",
              " * @return {!Iterable<!Object>} Iterable of next steps.\n",
              " */\n",
              "function* uploadFilesStep(inputId, outputId) {\n",
              "  const inputElement = document.getElementById(inputId);\n",
              "  inputElement.disabled = false;\n",
              "\n",
              "  const outputElement = document.getElementById(outputId);\n",
              "  outputElement.innerHTML = '';\n",
              "\n",
              "  const pickedPromise = new Promise((resolve) => {\n",
              "    inputElement.addEventListener('change', (e) => {\n",
              "      resolve(e.target.files);\n",
              "    });\n",
              "  });\n",
              "\n",
              "  const cancel = document.createElement('button');\n",
              "  inputElement.parentElement.appendChild(cancel);\n",
              "  cancel.textContent = 'Cancel upload';\n",
              "  const cancelPromise = new Promise((resolve) => {\n",
              "    cancel.onclick = () => {\n",
              "      resolve(null);\n",
              "    };\n",
              "  });\n",
              "\n",
              "  // Wait for the user to pick the files.\n",
              "  const files = yield {\n",
              "    promise: Promise.race([pickedPromise, cancelPromise]),\n",
              "    response: {\n",
              "      action: 'starting',\n",
              "    }\n",
              "  };\n",
              "\n",
              "  cancel.remove();\n",
              "\n",
              "  // Disable the input element since further picks are not allowed.\n",
              "  inputElement.disabled = true;\n",
              "\n",
              "  if (!files) {\n",
              "    return {\n",
              "      response: {\n",
              "        action: 'complete',\n",
              "      }\n",
              "    };\n",
              "  }\n",
              "\n",
              "  for (const file of files) {\n",
              "    const li = document.createElement('li');\n",
              "    li.append(span(file.name, {fontWeight: 'bold'}));\n",
              "    li.append(span(\n",
              "        `(${file.type || 'n/a'}) - ${file.size} bytes, ` +\n",
              "        `last modified: ${\n",
              "            file.lastModifiedDate ? file.lastModifiedDate.toLocaleDateString() :\n",
              "                                    'n/a'} - `));\n",
              "    const percent = span('0% done');\n",
              "    li.appendChild(percent);\n",
              "\n",
              "    outputElement.appendChild(li);\n",
              "\n",
              "    const fileDataPromise = new Promise((resolve) => {\n",
              "      const reader = new FileReader();\n",
              "      reader.onload = (e) => {\n",
              "        resolve(e.target.result);\n",
              "      };\n",
              "      reader.readAsArrayBuffer(file);\n",
              "    });\n",
              "    // Wait for the data to be ready.\n",
              "    let fileData = yield {\n",
              "      promise: fileDataPromise,\n",
              "      response: {\n",
              "        action: 'continue',\n",
              "      }\n",
              "    };\n",
              "\n",
              "    // Use a chunked sending to avoid message size limits. See b/62115660.\n",
              "    let position = 0;\n",
              "    do {\n",
              "      const length = Math.min(fileData.byteLength - position, MAX_PAYLOAD_SIZE);\n",
              "      const chunk = new Uint8Array(fileData, position, length);\n",
              "      position += length;\n",
              "\n",
              "      const base64 = btoa(String.fromCharCode.apply(null, chunk));\n",
              "      yield {\n",
              "        response: {\n",
              "          action: 'append',\n",
              "          file: file.name,\n",
              "          data: base64,\n",
              "        },\n",
              "      };\n",
              "\n",
              "      let percentDone = fileData.byteLength === 0 ?\n",
              "          100 :\n",
              "          Math.round((position / fileData.byteLength) * 100);\n",
              "      percent.textContent = `${percentDone}% done`;\n",
              "\n",
              "    } while (position < fileData.byteLength);\n",
              "  }\n",
              "\n",
              "  // All done.\n",
              "  yield {\n",
              "    response: {\n",
              "      action: 'complete',\n",
              "    }\n",
              "  };\n",
              "}\n",
              "\n",
              "scope.google = scope.google || {};\n",
              "scope.google.colab = scope.google.colab || {};\n",
              "scope.google.colab._files = {\n",
              "  _uploadFiles,\n",
              "  _uploadFilesContinue,\n",
              "};\n",
              "})(self);\n",
              "</script> "
            ]
          },
          "metadata": {}
        },
        {
          "output_type": "stream",
          "name": "stdout",
          "text": [
            "Saving diabetes_dataset_with_notes.csv to diabetes_dataset_with_notes.csv\n",
            "Mean Squared Error: 0.05964115599717726\n",
            "R-squared Score: 0.23438310613601654\n"
          ]
        }
      ]
    },
    {
      "cell_type": "markdown",
      "source": [
        "#Visualizing Results"
      ],
      "metadata": {
        "id": "OYT71mI8J3Sr"
      }
    },
    {
      "cell_type": "code",
      "source": [
        "plt.figure(figsize = (8, 5))\n",
        "plt.scatter(y_test, y_pred, alpha = 0.6, color = 'blue')\n",
        "plt.xlabel('Actual Diabetes')\n",
        "plt.ylabel('Predicted Diabetes')\n",
        "plt.title('Linear Regression Predictions vs Actual')\n",
        "plt.grid(True)\n",
        "plt.show()"
      ],
      "metadata": {
        "id": "zPgvowX7KDeC",
        "colab": {
          "base_uri": "https://localhost:8080/",
          "height": 487
        },
        "outputId": "4afd4236-5a5c-407c-f3c0-6a9424ececb2"
      },
      "execution_count": 2,
      "outputs": [
        {
          "output_type": "display_data",
          "data": {
            "text/plain": [
              "<Figure size 800x500 with 1 Axes>"
            ],
            "image/png": "[encoded data removed]"
          },
          "metadata": {}
        }
      ]
    },
    {
      "cell_type": "markdown",
      "source": [
        "*   Each dot shows a person's actual diabetes value (either 0 = no diabetes or 1 = has diabetes) compared to what the model predicted.\n",
        "*   The model's predictions are spread out and don't line up well with the actual values.\n",
        "*   Ideally, we'd want the dots to form two tight groups near 0 and 1 - but here they're scattered.\n",
        "\n",
        "###The model isn't very good at predicting whether someone has diabetes - it struggles to tell the difference between people who do and don't have it.\n"
      ],
      "metadata": {
        "id": "ZMhVXHuvXWSy"
      }
    },
    {
      "cell_type": "code",
      "source": [
        "coef_series = pd.Series(lr.coef_, index = X.columns)\n",
        "coef_series.nlargest(10).plot(kind = 'barh', title = \"Top 10 Feature Coefficients\")\n",
        "plt.xlabel('Coefficient Value')\n",
        "plt.gca().invert_yaxis()\n",
        "plt.show()"
      ],
      "metadata": {
        "id": "BGgIe9WEKK1a",
        "colab": {
          "base_uri": "https://localhost:8080/",
          "height": 472
        },
        "outputId": "cc4730c3-983b-4c2e-bfdd-a3713c1c8a08"
      },
      "execution_count": 3,
      "outputs": [
        {
          "output_type": "display_data",
          "data": {
            "text/plain": [
              "<Figure size 640x480 with 1 Axes>"
            ],
            "image/png": "[encoded data removed]"
          },
          "metadata": {}
        }
      ]
    },
    {
      "cell_type": "markdown",
      "source": [
        "*   All top featuers are locations (Tennessee, Kansas, etc)\n",
        "*   These states had the biggest weights, meaning the model used them most when predicting diabetes\n",
        "\n",
        "###According to this model, where someone lives had the strongest influence on predicted diabetes - more than personal health or habits.\n"
      ],
      "metadata": {
        "id": "LF620e-5XWOi"
      }
    }
  ]
}